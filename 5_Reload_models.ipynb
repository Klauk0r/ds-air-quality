{
 "cells": [
  {
   "cell_type": "markdown",
   "metadata": {},
   "source": [
    "# Reload XGBoost Model"
   ]
  },
  {
   "cell_type": "markdown",
   "metadata": {},
   "source": [
    "## Import Packages"
   ]
  },
  {
   "cell_type": "code",
   "execution_count": null,
   "metadata": {},
   "outputs": [],
   "source": [
    "# import packages\n",
    "import pandas as pd \n",
    "import numpy as np \n",
    "import matplotlib.pyplot as plt\n",
    "import seaborn as sns\n",
    "\n",
    "from sklearn.model_selection import train_test_split\n",
    "from sklearn.metrics import r2_score, mean_squared_error\n",
    "\n",
    "import xgboost as xgb\n",
    "from xgboost import Booster, DMatrix"
   ]
  },
  {
   "cell_type": "markdown",
   "metadata": {},
   "source": [
    "## Load model and data"
   ]
  },
  {
   "cell_type": "code",
   "execution_count": null,
   "metadata": {},
   "outputs": [],
   "source": [
    "xgb_loaded = Booster({'nthread': 4})  # init model\n",
    "xgb_loaded.load_model('models/xgb/xgb.model')  # load data"
   ]
  },
  {
   "cell_type": "code",
   "execution_count": null,
   "metadata": {},
   "outputs": [],
   "source": [
    "#import Data\n",
    "df=pd.read_csv(\"./data/air_quality_final.csv\")"
   ]
  },
  {
   "cell_type": "markdown",
   "metadata": {},
   "source": [
    "## Preprocess data"
   ]
  },
  {
   "cell_type": "code",
   "execution_count": null,
   "metadata": {},
   "outputs": [],
   "source": [
    "rseed = 42\n",
    "\n",
    "X = df.drop('target', axis=1)\n",
    "y = df['target']\n",
    "\n",
    "#dummy-encode the location feature\n",
    "location = pd.get_dummies(X['location'], prefix='location',drop_first=True)\n",
    "# concatenate dummy-encoded locations feature to original dataframe\n",
    "X = pd.concat([X, location],axis = 1)\n",
    "\n",
    "#train-test-split\n",
    "X_train, X_test, y_train, y_test = train_test_split(X, y, stratify=X['location'], random_state=rseed)\n",
    "\n",
    "#drop multiclass location column\n",
    "X_train_loc = X_train.location\n",
    "X_test_loc = X_test.location\n",
    "X_train.drop('location', axis=1, inplace=True)\n",
    "X_test.drop('location', axis=1, inplace=True)"
   ]
  },
  {
   "cell_type": "markdown",
   "metadata": {},
   "source": [
    "## Predict on test set using re-loaded model"
   ]
  },
  {
   "cell_type": "code",
   "execution_count": null,
   "metadata": {},
   "outputs": [],
   "source": [
    "# convert X_test into a xgb.DMatrix object and predict\n",
    "y_pred_xgb_loaded = xgb_loaded.predict(DMatrix(X_test)) \n",
    "\n",
    "# evaluate model accuracy\n",
    "rmse_xgb_loaded = mean_squared_error(y_test, y_pred_xgb_loaded, squared=False)\n",
    "r2_xgb_loaded = r2_score(y_test, y_pred_xgb_loaded)\n",
    "\n",
    "print(f'RMSE on testset: {round(rmse_xgb_loaded,2)}')\n",
    "print(f'Coefficient of determination on testset: {round(r2_xgb_loaded,2)}')"
   ]
  }
 ],
 "metadata": {
  "kernelspec": {
   "display_name": "Python 3.9.8 ('.venv': venv)",
   "language": "python",
   "name": "python3"
  },
  "language_info": {
   "codemirror_mode": {
    "name": "ipython",
    "version": 3
   },
   "file_extension": ".py",
   "mimetype": "text/x-python",
   "name": "python",
   "nbconvert_exporter": "python",
   "pygments_lexer": "ipython3",
   "version": "3.9.8"
  },
  "orig_nbformat": 4,
  "vscode": {
   "interpreter": {
    "hash": "a74321acea7b933ac2b40f4839998b763c182e4cba40b24760128a90b96880fd"
   }
  }
 },
 "nbformat": 4,
 "nbformat_minor": 2
}
