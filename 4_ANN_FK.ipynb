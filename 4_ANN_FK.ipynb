{
 "cells": [
  {
   "cell_type": "markdown",
   "id": "f35455b7",
   "metadata": {},
   "source": [
    "# DNN Assignment\n",
    "In this assignment you are working together with your teammates from the second project. You will apply your new knowledge about dense neural networks to the data from your ML project to investigate, if you can make further improvements on prediction performance. Your data is (hopefully) already cleaned and transformed (this was part of your ML project) such that you can focus fully on feeding it to your neural network. Use TensorFlow 2.x in this assignment as it makes training with real-life data much more easier with many implemented features (e.g. early-stopping, tensorboard, regularization, etc.). \n",
    "\n",
    "In this notebook you will learn\n",
    "- how to apply a neural network to your own data using TensorFlow 2.x\n",
    "- how to tune the network and monitor learning\n",
    "- how to train several networks and ensemble them into a stronger model"
   ]
  },
  {
   "cell_type": "markdown",
   "id": "3f967c6d",
   "metadata": {},
   "source": [
    "# Module loading\n",
    "Load all the necessary packages for your assignment. We give you some modules in advance, feel free to add more, if you need them."
   ]
  },
  {
   "cell_type": "code",
   "execution_count": 1,
   "id": "4e0d764d",
   "metadata": {},
   "outputs": [
    {
     "name": "stdout",
     "output_type": "stream",
     "text": [
      "Using TensorFlow version: 2.8.0\n"
     ]
    }
   ],
   "source": [
    "import numpy as np\n",
    "import pandas as pd\n",
    "import tensorflow as tf\n",
    "import matplotlib.pyplot as plt\n",
    "import seaborn as sns\n",
    "\n",
    "from sklearn.preprocessing import StandardScaler\n",
    "from sklearn.metrics import mean_absolute_error, mean_squared_error\n",
    "from sklearn.model_selection import train_test_split\n",
    "\n",
    "from tensorflow.keras import layers\n",
    "from tensorflow.keras import regularizers\n",
    "from tensorflow.keras.layers.experimental import preprocessing\n",
    "\n",
    "# Make numpy printouts easier to read.\n",
    "np.set_printoptions(precision=3, suppress=True)\n",
    "\n",
    "print('Using TensorFlow version: %s' % tf.__version__)"
   ]
  },
  {
   "cell_type": "code",
   "execution_count": 2,
   "id": "28b25ae6",
   "metadata": {},
   "outputs": [],
   "source": [
    "#!pip install -q git+https://github.com/tensorflow/docs\n",
    "    \n",
    "import tensorflow_docs as tfdocs\n",
    "import tensorflow_docs.modeling\n",
    "import tensorflow_docs.plots"
   ]
  },
  {
   "cell_type": "code",
   "execution_count": 3,
   "id": "c07f7b60",
   "metadata": {},
   "outputs": [],
   "source": [
    "rseed = 42\n",
    "tf.keras.backend.set_floatx('float64')\n",
    "plt.rcParams['figure.figsize'] = (15, 10)"
   ]
  },
  {
   "cell_type": "markdown",
   "id": "9a12ef62",
   "metadata": {},
   "source": [
    "## Data loading\n",
    "Load here your data from your ML project. You can use either `pandas` or `numpy` to format your data. "
   ]
  },
  {
   "cell_type": "code",
   "execution_count": 4,
   "id": "a1c481ff",
   "metadata": {},
   "outputs": [],
   "source": [
    "#import Data\n",
    "df=pd.read_csv(\"./data/air_quality_final.csv\")"
   ]
  },
  {
   "cell_type": "code",
   "execution_count": 5,
   "id": "94ddba37",
   "metadata": {},
   "outputs": [],
   "source": [
    "df.drop('Unnamed: 0', axis=1, inplace=True)"
   ]
  },
  {
   "cell_type": "markdown",
   "id": "9a12ef62",
   "metadata": {},
   "source": [
    "## Data Preparation\n",
    "Train-Test-Split and dummy encoding (if necessary) "
   ]
  },
  {
   "cell_type": "code",
   "execution_count": 6,
   "id": "46dd8f62",
   "metadata": {},
   "outputs": [
    {
     "name": "stdout",
     "output_type": "stream",
     "text": [
      "We have 14833 observations in our dataset and 23 features\n",
      "Our target vector has also 14833 values\n"
     ]
    }
   ],
   "source": [
    "X = df.drop('target', axis=1)\n",
    "y = df['target']\n",
    "print(f\"We have {X.shape[0]} observations in our dataset and {X.shape[1]} features\")\n",
    "print(f\"Our target vector has also {y.shape[0]} values\")"
   ]
  },
  {
   "cell_type": "code",
   "execution_count": 7,
   "id": "0f2cbdec",
   "metadata": {},
   "outputs": [
    {
     "data": {
      "text/html": [
       "<div>\n",
       "<style scoped>\n",
       "    .dataframe tbody tr th:only-of-type {\n",
       "        vertical-align: middle;\n",
       "    }\n",
       "\n",
       "    .dataframe tbody tr th {\n",
       "        vertical-align: top;\n",
       "    }\n",
       "\n",
       "    .dataframe thead th {\n",
       "        text-align: right;\n",
       "    }\n",
       "</style>\n",
       "<table border=\"1\" class=\"dataframe\">\n",
       "  <thead>\n",
       "    <tr style=\"text-align: right;\">\n",
       "      <th></th>\n",
       "      <th>location</th>\n",
       "      <th>time_of_day_angle</th>\n",
       "      <th>last_temp</th>\n",
       "      <th>last_precip</th>\n",
       "      <th>last_rel_humidity</th>\n",
       "      <th>last_wind_dir_x</th>\n",
       "      <th>last_wind_dir_y</th>\n",
       "      <th>last_wind_spd</th>\n",
       "      <th>last_atmos_press</th>\n",
       "      <th>mean_temp</th>\n",
       "      <th>...</th>\n",
       "      <th>mean_rel_humidity</th>\n",
       "      <th>std_rel_humidity</th>\n",
       "      <th>mean_wind_dir_x</th>\n",
       "      <th>std_wind_dir_x</th>\n",
       "      <th>mean_wind_dir_y</th>\n",
       "      <th>std_wind_dir_y</th>\n",
       "      <th>mean_wind_spd</th>\n",
       "      <th>std_wind_spd</th>\n",
       "      <th>mean_atmos_press</th>\n",
       "      <th>std_atmos_press</th>\n",
       "    </tr>\n",
       "  </thead>\n",
       "  <tbody>\n",
       "    <tr>\n",
       "      <th>0</th>\n",
       "      <td>C</td>\n",
       "      <td>0.832452</td>\n",
       "      <td>19.583333</td>\n",
       "      <td>0.000</td>\n",
       "      <td>0.874583</td>\n",
       "      <td>0.823917</td>\n",
       "      <td>-0.566710</td>\n",
       "      <td>0.855000</td>\n",
       "      <td>87.768333</td>\n",
       "      <td>22.299527</td>\n",
       "      <td>...</td>\n",
       "      <td>0.758530</td>\n",
       "      <td>0.120234</td>\n",
       "      <td>0.323455</td>\n",
       "      <td>0.668548</td>\n",
       "      <td>0.041438</td>\n",
       "      <td>0.668359</td>\n",
       "      <td>0.677348</td>\n",
       "      <td>0.394041</td>\n",
       "      <td>87.752434</td>\n",
       "      <td>0.070374</td>\n",
       "    </tr>\n",
       "    <tr>\n",
       "      <th>1</th>\n",
       "      <td>D</td>\n",
       "      <td>4.173034</td>\n",
       "      <td>21.450000</td>\n",
       "      <td>0.561</td>\n",
       "      <td>0.797333</td>\n",
       "      <td>0.453481</td>\n",
       "      <td>-0.891266</td>\n",
       "      <td>1.019167</td>\n",
       "      <td>90.529167</td>\n",
       "      <td>24.679063</td>\n",
       "      <td>...</td>\n",
       "      <td>0.758058</td>\n",
       "      <td>0.160952</td>\n",
       "      <td>-0.061331</td>\n",
       "      <td>0.655721</td>\n",
       "      <td>0.146340</td>\n",
       "      <td>0.738142</td>\n",
       "      <td>0.899208</td>\n",
       "      <td>0.539199</td>\n",
       "      <td>90.429924</td>\n",
       "      <td>0.156000</td>\n",
       "    </tr>\n",
       "    <tr>\n",
       "      <th>2</th>\n",
       "      <td>A</td>\n",
       "      <td>2.509879</td>\n",
       "      <td>30.091667</td>\n",
       "      <td>0.000</td>\n",
       "      <td>0.437917</td>\n",
       "      <td>-0.340293</td>\n",
       "      <td>-0.940319</td>\n",
       "      <td>1.746667</td>\n",
       "      <td>88.415833</td>\n",
       "      <td>24.112317</td>\n",
       "      <td>...</td>\n",
       "      <td>0.712944</td>\n",
       "      <td>0.168129</td>\n",
       "      <td>-0.186449</td>\n",
       "      <td>0.724115</td>\n",
       "      <td>-0.146329</td>\n",
       "      <td>0.647675</td>\n",
       "      <td>1.038656</td>\n",
       "      <td>0.585221</td>\n",
       "      <td>88.420931</td>\n",
       "      <td>0.179481</td>\n",
       "    </tr>\n",
       "    <tr>\n",
       "      <th>3</th>\n",
       "      <td>A</td>\n",
       "      <td>2.536469</td>\n",
       "      <td>24.641667</td>\n",
       "      <td>0.000</td>\n",
       "      <td>0.719667</td>\n",
       "      <td>0.875622</td>\n",
       "      <td>-0.482997</td>\n",
       "      <td>1.852500</td>\n",
       "      <td>88.465833</td>\n",
       "      <td>20.845273</td>\n",
       "      <td>...</td>\n",
       "      <td>0.898326</td>\n",
       "      <td>0.114207</td>\n",
       "      <td>0.550963</td>\n",
       "      <td>0.620226</td>\n",
       "      <td>-0.246912</td>\n",
       "      <td>0.500793</td>\n",
       "      <td>1.365202</td>\n",
       "      <td>0.580259</td>\n",
       "      <td>88.376915</td>\n",
       "      <td>0.161758</td>\n",
       "    </tr>\n",
       "    <tr>\n",
       "      <th>4</th>\n",
       "      <td>E</td>\n",
       "      <td>1.737804</td>\n",
       "      <td>25.075000</td>\n",
       "      <td>0.000</td>\n",
       "      <td>0.773000</td>\n",
       "      <td>-0.819840</td>\n",
       "      <td>0.572592</td>\n",
       "      <td>1.301667</td>\n",
       "      <td>88.510000</td>\n",
       "      <td>22.581950</td>\n",
       "      <td>...</td>\n",
       "      <td>0.795031</td>\n",
       "      <td>0.102455</td>\n",
       "      <td>-0.384539</td>\n",
       "      <td>0.739400</td>\n",
       "      <td>0.175220</td>\n",
       "      <td>0.524133</td>\n",
       "      <td>1.133221</td>\n",
       "      <td>0.531331</td>\n",
       "      <td>88.437645</td>\n",
       "      <td>0.147604</td>\n",
       "    </tr>\n",
       "  </tbody>\n",
       "</table>\n",
       "<p>5 rows × 23 columns</p>\n",
       "</div>"
      ],
      "text/plain": [
       "  location  time_of_day_angle  last_temp  last_precip  last_rel_humidity  \\\n",
       "0        C           0.832452  19.583333        0.000           0.874583   \n",
       "1        D           4.173034  21.450000        0.561           0.797333   \n",
       "2        A           2.509879  30.091667        0.000           0.437917   \n",
       "3        A           2.536469  24.641667        0.000           0.719667   \n",
       "4        E           1.737804  25.075000        0.000           0.773000   \n",
       "\n",
       "   last_wind_dir_x  last_wind_dir_y  last_wind_spd  last_atmos_press  \\\n",
       "0         0.823917        -0.566710       0.855000         87.768333   \n",
       "1         0.453481        -0.891266       1.019167         90.529167   \n",
       "2        -0.340293        -0.940319       1.746667         88.415833   \n",
       "3         0.875622        -0.482997       1.852500         88.465833   \n",
       "4        -0.819840         0.572592       1.301667         88.510000   \n",
       "\n",
       "   mean_temp  ...  mean_rel_humidity  std_rel_humidity  mean_wind_dir_x  \\\n",
       "0  22.299527  ...           0.758530          0.120234         0.323455   \n",
       "1  24.679063  ...           0.758058          0.160952        -0.061331   \n",
       "2  24.112317  ...           0.712944          0.168129        -0.186449   \n",
       "3  20.845273  ...           0.898326          0.114207         0.550963   \n",
       "4  22.581950  ...           0.795031          0.102455        -0.384539   \n",
       "\n",
       "   std_wind_dir_x  mean_wind_dir_y  std_wind_dir_y  mean_wind_spd  \\\n",
       "0        0.668548         0.041438        0.668359       0.677348   \n",
       "1        0.655721         0.146340        0.738142       0.899208   \n",
       "2        0.724115        -0.146329        0.647675       1.038656   \n",
       "3        0.620226        -0.246912        0.500793       1.365202   \n",
       "4        0.739400         0.175220        0.524133       1.133221   \n",
       "\n",
       "   std_wind_spd  mean_atmos_press  std_atmos_press  \n",
       "0      0.394041         87.752434         0.070374  \n",
       "1      0.539199         90.429924         0.156000  \n",
       "2      0.585221         88.420931         0.179481  \n",
       "3      0.580259         88.376915         0.161758  \n",
       "4      0.531331         88.437645         0.147604  \n",
       "\n",
       "[5 rows x 23 columns]"
      ]
     },
     "execution_count": 7,
     "metadata": {},
     "output_type": "execute_result"
    }
   ],
   "source": [
    "X.head()"
   ]
  },
  {
   "cell_type": "code",
   "execution_count": null,
   "id": "4951932d",
   "metadata": {},
   "outputs": [],
   "source": [
    "#dummy-encode the location feature\n",
    "location = pd.get_dummies(X['location'], prefix='location', drop_first=True)\n",
    "location.head()\n",
    "# concatenate dummy-encoded locations feature to original dataframe\n",
    "X = pd.concat([X, location],axis = 1)"
   ]
  },
  {
   "cell_type": "code",
   "execution_count": null,
   "id": "0363c5bf",
   "metadata": {},
   "outputs": [],
   "source": [
    "#train-test-split\n",
    "X_train, X_test, y_train, y_test = train_test_split(X, y, stratify=X['location'], random_state=rseed)"
   ]
  },
  {
   "cell_type": "code",
   "execution_count": null,
   "id": "afab9ec4",
   "metadata": {},
   "outputs": [],
   "source": [
    "#drop multiclass location column\n",
    "X_train_loc = X_train.location\n",
    "X_test_loc = X_test.location\n",
    "X_train.drop('location', axis=1, inplace=True)\n",
    "X_test.drop('location', axis=1, inplace=True)"
   ]
  },
  {
   "cell_type": "code",
   "execution_count": null,
   "id": "e08585b4",
   "metadata": {},
   "outputs": [],
   "source": [
    "X_train.columns"
   ]
  },
  {
   "cell_type": "markdown",
   "id": "26098865",
   "metadata": {},
   "source": [
    "## Training\n",
    "For training you need a train/val split (hopefully you did a train/test split before (and you should use the same as in your ML project to make results comparable). "
   ]
  },
  {
   "cell_type": "code",
   "execution_count": null,
   "id": "467c0dc4",
   "metadata": {},
   "outputs": [],
   "source": [
    "valsize = 0.8\n",
    "N_VAL = len(X_train)*valsize\n",
    "N_TRAIN = len(X_train)-N_VAL\n",
    "BATCH_SIZE = 64\n",
    "STEPS_PER_EPOCH = N_TRAIN // BATCH_SIZE\n",
    "EPOCHS = 100"
   ]
  },
  {
   "cell_type": "code",
   "execution_count": null,
   "id": "f13a6c62",
   "metadata": {},
   "outputs": [],
   "source": [
    "#Learning Rate Decay\n",
    "lr_schedule = tf.keras.optimizers.schedules.InverseTimeDecay(\n",
    "    0.01,\n",
    "    decay_steps=STEPS_PER_EPOCH*1000,\n",
    "    decay_rate=1,\n",
    "    staircase=False)"
   ]
  },
  {
   "cell_type": "markdown",
   "id": "afda48b9",
   "metadata": {},
   "source": [
    "### Build, compile and fit your model\n",
    "To become fast at retraining your (different) models it is good practice to define a function that gets fed by a model, its name, an optimizer to use and the number of epochs you want the model to be trained. \n",
    "\n",
    "If your model trains for many epochs you will receive a lot of logging from TensorFlow. To reduce the logging noise you can use a callback (provided by the `tensorflow_docs` module we installed and imported for you) named `EpochDots()` that simply prints a `.` for each epoch and a full set of metrics after a number of epochs have been trained. \n",
    "\n",
    "If you want to produce logs for using Tensorboard you also need to include the `callbacks.Tensorboard()`."
   ]
  },
  {
   "cell_type": "code",
   "execution_count": null,
   "id": "ce0a2e45",
   "metadata": {},
   "outputs": [],
   "source": [
    "#def get_callbacks(name):\n",
    "#    return tf.keras.callbacks.TensorBoard(run_logdir+name, histogram_freq=1)"
   ]
  },
  {
   "cell_type": "markdown",
   "id": "abfcdd8a",
   "metadata": {},
   "source": [
    "You can implement your callbacks in the `model.fit()` method below."
   ]
  },
  {
   "cell_type": "code",
   "execution_count": null,
   "id": "89f42245",
   "metadata": {},
   "outputs": [],
   "source": [
    "# Define optimizer used for modelling\n",
    "optimizer = tf.keras.optimizers.Adam(learning_rate=lr_schedule, name='Adam')"
   ]
  },
  {
   "cell_type": "code",
   "execution_count": null,
   "id": "37404959",
   "metadata": {},
   "outputs": [],
   "source": [
    "#def model_compile_and_fit(model, name, optimizer=None, max_epochs=30):\n",
    "    # Get optimizer\n",
    "    \n",
    "    # model.compile\n",
    "    \n",
    "    # model.fit\n",
    "    \n",
    "    # return results"
   ]
  },
  {
   "cell_type": "code",
   "execution_count": null,
   "id": "f042f336",
   "metadata": {},
   "outputs": [],
   "source": [
    "#def model_compile_and_fit(model, name, optimizer=Adam, max_epochs=30,loss='mae',metrics=['mse']):\n",
    "#    model.compile(optimizer=optimizer,\n",
    "#    loss=loss\n",
    "#    metrics=metrics)"
   ]
  },
  {
   "cell_type": "markdown",
   "id": "b436f486",
   "metadata": {},
   "source": [
    "#### Build your model\n",
    "You can build your model by using `tf.keras.Sequential()` that helps you to sequentially define your different layers from input to output. "
   ]
  },
  {
   "cell_type": "code",
   "execution_count": null,
   "id": "42c0b7af",
   "metadata": {},
   "outputs": [],
   "source": [
    "normalizer = preprocessing.Normalization()\n",
    "normalizer.adapt()"
   ]
  },
  {
   "cell_type": "code",
   "execution_count": null,
   "id": "535bfd4b",
   "metadata": {},
   "outputs": [],
   "source": [
    "model = tf.keras.Sequential([\n",
    "    normalizer,\n",
    "    layers.Dense(16, activation='relu'),\n",
    "    layers.Dense(16, activation='relu'),\n",
    "    layers.Dense(16, activation='relu'),\n",
    "    layers.Dense(16, activation='relu'),\n",
    "    layers.Dense(1)\n",
    "])    "
   ]
  },
  {
   "cell_type": "markdown",
   "id": "c31056e5",
   "metadata": {},
   "source": [
    "#### Train your model\n",
    "Train your model by using your `model_compile_and_fit()` function you defined above."
   ]
  },
  {
   "cell_type": "code",
   "execution_count": null,
   "id": "2e3108d0",
   "metadata": {},
   "outputs": [],
   "source": [
    "model.compile(\n",
    "    optimizer=tf.optimizers.Adam(learning_rate=0.1),\n",
    "    loss='mae',\n",
    "    metrics='mse')"
   ]
  },
  {
   "cell_type": "code",
   "execution_count": null,
   "id": "bb3dfc14",
   "metadata": {},
   "outputs": [],
   "source": [
    "model.fit(\n",
    "    df_train['Horsepower'], y_train,\n",
    "    epochs=50,\n",
    "    # suppress logging (if you want to see the output for the different epochs set the value to 1)\n",
    "    verbose=0,\n",
    "    # Calculate validation results on 20% of the training data\n",
    "    validation_split = 0.2,\n",
    "    # Store information for TensorBoard\n",
    "    callbacks=get_callbacks(\"horsepower_model\"))"
   ]
  },
  {
   "cell_type": "code",
   "execution_count": null,
   "id": "0df56c37",
   "metadata": {},
   "outputs": [],
   "source": [
    "#your_history = model_compile_and_fit(your_model, ....)"
   ]
  },
  {
   "cell_type": "markdown",
   "id": "74a0e282",
   "metadata": {},
   "source": [
    "#### Evaluate your model training\n",
    "TensorFlow offers now (this was more cumbersome before) a simple history plotter that you can use to plot training histories and see how the model performed on training and validation data set."
   ]
  },
  {
   "cell_type": "code",
   "execution_count": null,
   "id": "4554e3d4",
   "metadata": {},
   "outputs": [],
   "source": [
    "# history_plotter = tfdocs.plots.HistoryPlotter(metric = 'your_metric', smoothing_std=10)\n",
    "# history_plotter.plot(your_history)"
   ]
  },
  {
   "cell_type": "markdown",
   "id": "85938cce",
   "metadata": {},
   "source": [
    "## Model tuning\n",
    "You might have no luck with your first model (most surely you did not). In this section you will apply methods you know to tune your model's performance. An obvious way of course is to change your model's architecture (removing or adding layers or layer dimensions, changing activation functions). \n",
    "\n",
    "However, after this you might still be able to detect some overfitting and there are some more methods you can apply to improve your neural network. Some of them are regularization, learning rate decay, early stopping, or dropout. \n",
    "\n",
    "If you want to add regularization you can apply directly layer-wise L2- or L1-regularization by using a layer's `kernel_regularization` argument and an appropriate regularizer from the [`tensorflow.keras.regularizers`](https://www.tensorflow.org/api_docs/python/tf/keras/regularizers) module we imported for you.  \n",
    "\n",
    "__Optimizer schedules__<br>\n",
    "Quite often your optimizer does not run efficiently through the loss function surface. Remember that theory ensures a convergence of mini-batch SGD if and only if the learing rate decreases sufficiently fast. A way to apply this to your model training is to use a learning rate scheduler (learning rate decay) that reduces the learning rate over the number of update steps. The [`tf.keras.optimizers.schedules`](https://www.tensorflow.org/api_docs/python/tf/keras/optimizers/schedules) module offers you some approaches to do that. \n",
    "\n",
    "Note that to apply this to your `model_compile_and_fit()` function you defined above you need to implement the learning rate schedule either in there or with a helper function that your function calls inside. \n",
    "\n",
    "If you want to visualize different schedulers you can define them and call them on a range of values and plot them in a line plot. \n",
    "\n",
    "__Early stopping__<br>\n",
    "Earyl stopping is a procedure that enables you to stop your training earlier than defined by your `max_epochs` argument. It is used in practices to \n",
    "1. determine the optimal parameter vector by monitoring the validation error closely (if it rises again too much stuck with the best parameters found until then) and\n",
    "2. to save expensive resources (either in terms of monetary costs or ecological costs).\n",
    "\n",
    "To implement early stopping in TensorFlow the `tf.keras` module offers you a `callback` named [`tf.keras.callback.EarlyStopping()`](https://www.tensorflow.org/api_docs/python/tf/keras/callbacks/EarlyStopping) that monitors for you a certain metric (it makes sense here to use a validation metric) and to stop training after a certain number of epochs with no improvement or by defining a certain `min_delta` that defines a minimum value of improvement - if below the callback stops your training. \n",
    "\n",
    "You can add this callback simply to the callbacks defined in your `get_callbacks()` function you defined above.\n",
    "\n",
    "__Dropout__<br>\n",
    "Dropout was one of the important developments in regularization for neural networks. It was developed by Geoffrey Hinton and his team at Toronto University. \n",
    "\n",
    "Dropout can be applied to each layer in your network and is implemented in `tf.keras` by an own layer named `Dropout()` awaiting a dropout rate set by you. So to introduce dropout you have to rework your model design.  \n",
    "\n",
    "Make use of your knowledge and apply tuning techniques to improve your network. "
   ]
  },
  {
   "cell_type": "code",
   "execution_count": null,
   "id": "dc3acc24",
   "metadata": {},
   "outputs": [],
   "source": [
    "#===========#\n",
    "# YOUR CODE #\n",
    "#===========#"
   ]
  },
  {
   "cell_type": "markdown",
   "id": "25560d3a",
   "metadata": {},
   "source": [
    "## Model ensembling\n",
    "You have learned that models can be ensembled. What is possible in `scikit-learn` is also possible in TensorFlow, just a little different as it is relying on its computation graph. However, any model is callable like a `layer` by invoking it on either an `Input` or on the output of another layer. Furthermore, you can also stack outputs together.\n",
    "\n",
    "To produce an ensemble you can define a couple of models, than use their predictions as inputs for another model and produce a final output (using `keras.Model(input, output)`). But you can also start simple and use the mean predictions over all models and then compute the `argmax()` to assign them to a class in classification (via using `layers.average([model1_preds,model2_preds,...])`). You will be surprised how well this works. \n",
    "\n",
    "Now implement your own ensemble to improve your work even a little more and to have something more to polish up your ML project on `GitHub` ;) "
   ]
  },
  {
   "cell_type": "code",
   "execution_count": null,
   "id": "2cde4649",
   "metadata": {},
   "outputs": [],
   "source": [
    "#===========#\n",
    "# YOUR CODE #\n",
    "#===========#"
   ]
  }
 ],
 "metadata": {
  "kernelspec": {
   "display_name": "Python 3.9.8 ('.venv': venv)",
   "language": "python",
   "name": "python3"
  },
  "language_info": {
   "codemirror_mode": {
    "name": "ipython",
    "version": 3
   },
   "file_extension": ".py",
   "mimetype": "text/x-python",
   "name": "python",
   "nbconvert_exporter": "python",
   "pygments_lexer": "ipython3",
   "version": "3.9.8"
  },
  "vscode": {
   "interpreter": {
    "hash": "5d098380f1bbf0e6fc65a4b3a51050413391adaf5f5fbe0ee7abc7651a36aa4a"
   }
  }
 },
 "nbformat": 4,
 "nbformat_minor": 5
}
