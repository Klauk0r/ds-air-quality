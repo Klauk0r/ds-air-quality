{
 "cells": [
  {
   "cell_type": "code",
   "execution_count": null,
   "metadata": {},
   "outputs": [],
   "source": [
    "import pandas as pd \n",
    "import numpy as np \n",
    "import seaborn as sns\n",
    "import matplotlib.pyplot as plt\n",
    "from scipy.optimize import curve_fit"
   ]
  },
  {
   "cell_type": "code",
   "execution_count": null,
   "metadata": {},
   "outputs": [],
   "source": [
    "df = pd.read_csv(\"data/Train.csv\")\n",
    "#df.head()"
   ]
  },
  {
   "cell_type": "code",
   "execution_count": null,
   "metadata": {},
   "outputs": [],
   "source": [
    "df.info()"
   ]
  },
  {
   "cell_type": "markdown",
   "metadata": {},
   "source": [
    "# basic cleanup and conversion"
   ]
  },
  {
   "cell_type": "code",
   "execution_count": null,
   "metadata": {},
   "outputs": [],
   "source": [
    "# covert features  fron string to List of values \n",
    "def replace_nan(x):\n",
    "    if x==\" \":\n",
    "        return np.nan\n",
    "    else :\n",
    "        return float(x)\n",
    "features=[\"temp\",\"precip\",\"rel_humidity\",\"wind_dir\",\"wind_spd\",\"atmos_press\"]\n",
    "for feature in features : \n",
    "    df[feature] = df[feature].apply(lambda x: [ replace_nan(X) for X in x.replace(\"nan\",\" \").split(\",\")])"
   ]
  },
  {
   "cell_type": "markdown",
   "metadata": {},
   "source": [
    "# drop rows with too many NaNs"
   ]
  },
  {
   "cell_type": "code",
   "execution_count": null,
   "metadata": {},
   "outputs": [],
   "source": [
    "# recording periods contain varying degrees of NaNs: compute percent NaN for each recording period and feature\n",
    "# function to compute the percentage of NaNs per recording period\n",
    "def compute_percent_nan(df, col_name):\n",
    "    df['percent_nan_'+col_name] = df[col_name].apply(lambda x: np.isnan(np.array(x)).sum()/len(x)*100)\n",
    "    return df"
   ]
  },
  {
   "cell_type": "code",
   "execution_count": null,
   "metadata": {},
   "outputs": [],
   "source": [
    "# calculate percentage of missings per recording period and feature and append to dataframe\n",
    "for col_name in features:\n",
    "    data=compute_percent_nan(df,col_name)"
   ]
  },
  {
   "cell_type": "code",
   "execution_count": null,
   "metadata": {},
   "outputs": [],
   "source": [
    "#df.head()"
   ]
  },
  {
   "cell_type": "code",
   "execution_count": null,
   "metadata": {},
   "outputs": [],
   "source": [
    "# filter observations based on percent NaN and check again the data distribution of the target and summary features\n",
    "nan_columns = ['percent_nan_temp', 'percent_nan_precip','percent_nan_rel_humidity', 'percent_nan_wind_dir','percent_nan_wind_spd', \n",
    "        'percent_nan_atmos_press']\n",
    "df = df[(df[nan_columns]<30).all(axis=1)]\n",
    "df.drop(nan_columns, axis=1, inplace=True)\n",
    "df.reset_index(inplace=True)\n",
    "df.head()"
   ]
  },
  {
   "cell_type": "markdown",
   "metadata": {},
   "source": [
    "# do the wind thing\n"
   ]
  },
  {
   "cell_type": "code",
   "execution_count": null,
   "metadata": {},
   "outputs": [],
   "source": [
    "\n",
    "df[\"wind_dir_x\"] = df.wind_dir.apply(lambda x: list(np.cos(np.array(x) * np.pi /180)))\n",
    "df[\"wind_dir_y\"] = df.wind_dir.apply(lambda x: list(np.sin(np.array(x) * np.pi /180)))\n",
    "df.drop(\"wind_dir\", axis=1, inplace=True)\n",
    "\n",
    "features=[\"temp\",\"precip\",\"rel_humidity\",\"wind_dir_x\",\"wind_dir_y\",\"wind_spd\",\"atmos_press\"]\n",
    "\n",
    "df.head(3)"
   ]
  },
  {
   "cell_type": "markdown",
   "metadata": {},
   "source": [
    "# get last measurement from each time series"
   ]
  },
  {
   "cell_type": "code",
   "execution_count": null,
   "metadata": {},
   "outputs": [],
   "source": [
    "# get last value for each time series\n",
    "# did this before dropping all NaNs\n",
    "\n",
    "\n",
    "def last(x):\n",
    "    \"\"\"return last value of list, if not there then return second to last, if not there the one 24h before last. \n",
    "\n",
    "    Args:\n",
    "        x (_type_): _description_\n",
    "\n",
    "    Returns:\n",
    "        _type_: _description_\n",
    "    \"\"\"\n",
    "    if not pd.isna(x[-1]):\n",
    "        return x[-1]\n",
    "    if pd.isna(x[-1]) and not pd.isna(x[-2]):\n",
    "        return x[-2]\n",
    "    return x[-25]\n",
    "    #e=1\n",
    "    #while pd.isna(x[-e]) and e < len(x):\n",
    "    #    e += 24\n",
    "    #return x[-e]\n",
    "\n",
    "    \n",
    "def get_last(x,col_name):\n",
    "    x[\"last_\"+col_name]=x[col_name].apply(last)\n",
    "    return x \n",
    "\n",
    "for col_name in features:\n",
    "    df=get_last(df,col_name)"
   ]
  },
  {
   "cell_type": "code",
   "execution_count": null,
   "metadata": {},
   "outputs": [],
   "source": [
    "df.head(3)"
   ]
  },
  {
   "cell_type": "code",
   "execution_count": null,
   "metadata": {},
   "outputs": [],
   "source": [
    "df.info()"
   ]
  },
  {
   "cell_type": "markdown",
   "metadata": {},
   "source": [
    "# get the time"
   ]
  },
  {
   "cell_type": "code",
   "execution_count": null,
   "metadata": {},
   "outputs": [],
   "source": [
    "from scipy.optimize import curve_fit\n",
    "\n",
    "def fit_time(time_series, return_fit_curve=False):\n",
    "    \"\"\"gets a time series, must be hourly, calculates the starting time from fitting a sine on it.\n",
    "\n",
    "    Args:\n",
    "        time_series (list): a list describing the time series\n",
    "        return_fit_curve (bool, optional): tells, weather it should return the x, y and fitted y values. Defaults to False.\n",
    "\n",
    "    Returns:\n",
    "        value: the phase angle describing the time of day, ranging from 0 to 2 pi\n",
    "        OR also the x and y used for fitting and the fitted y.\n",
    "    \"\"\"\n",
    "    # get some x values\n",
    "    x = np.arange(len(time_series))\n",
    "    # do a dataframe to drop NaNs\n",
    "    xy = pd.DataFrame(\n",
    "        {\"x\": x,\n",
    "        \"y\": time_series}\n",
    "    )\n",
    "    xy.dropna(inplace=True)\n",
    "    # reconvert\n",
    "    x = xy.x\n",
    "    y = xy.y \n",
    "\n",
    "    # do the fit\n",
    "    def tod_func(x, y0, amp, phi):\n",
    "        return y0 + amp * -np.cos(phi + x*np.pi/12)\n",
    "    params = curve_fit(tod_func, x, y)\n",
    "    [y0_fit, amp_fit, phi_fit] = params[0]\n",
    "\n",
    "    # exclude negative amplitudes -> convert to phase information\n",
    "    if amp_fit < 0:\n",
    "        amp_fit = abs(amp_fit)\n",
    "        phi_fit += np.pi\n",
    "\n",
    "    # get tod-angle between 0 and 2 pi\n",
    "    phi_fit = phi_fit % (2*np.pi)\n",
    "    if phi_fit < 0:\n",
    "        phi_fit += 2*np.pi\n",
    "    # calulate y_fit\n",
    "    y_fit = tod_func(x, y0_fit, amp_fit, phi_fit)\n",
    "    if return_fit_curve:\n",
    "        return [phi_fit, x, y, y_fit]\n",
    "    return phi_fit\n"
   ]
  },
  {
   "cell_type": "code",
   "execution_count": null,
   "metadata": {},
   "outputs": [],
   "source": [
    "y = df.temp[0]\n",
    "phi_fit, x, y, y_fit = fit_time(y, return_fit_curve=True)\n",
    "print(\"time of day angle:\", phi_fit.round(2))\n",
    "plt.plot(x, y)\n",
    "plt.plot(x, y_fit)"
   ]
  },
  {
   "cell_type": "code",
   "execution_count": null,
   "metadata": {},
   "outputs": [],
   "source": [
    "N = 5\n",
    "fig, axs = plt.subplots(N)\n",
    "for n in range(N):\n",
    "    y = df.temp[n+1000]\n",
    "    _, x, y, y_fit = fit_time(y, return_fit_curve=True)\n",
    "    axs[n].plot(x, y)\n",
    "    axs[n].plot(x, y_fit)\n",
    "    plt.xlim(0, 125)\n"
   ]
  },
  {
   "cell_type": "code",
   "execution_count": null,
   "metadata": {},
   "outputs": [],
   "source": [
    "df[\"time_of_day_angle\"] = df.temp.apply(fit_time)\n",
    "df.head(3)"
   ]
  },
  {
   "cell_type": "code",
   "execution_count": null,
   "metadata": {},
   "outputs": [],
   "source": [
    "sns.scatterplot(y=df.target, x=df.time_of_day_angle, hue=df.location)"
   ]
  },
  {
   "cell_type": "code",
   "execution_count": null,
   "metadata": {},
   "outputs": [],
   "source": [
    "df[\"time_of_day_cos\"] = df.time_of_day_angle.apply(lambda x: np.cos(x))\n",
    "df[\"time_of_day_sin\"] = df.time_of_day_angle.apply(lambda x: np.sin(x))\n",
    "df.drop(\"time_of_day_angle\", axis=1, inplace=True)\n",
    "df.head(3)"
   ]
  },
  {
   "cell_type": "markdown",
   "metadata": {},
   "source": [
    "# other aggregation stuff"
   ]
  },
  {
   "cell_type": "code",
   "execution_count": null,
   "metadata": {},
   "outputs": [],
   "source": [
    "# aggregation function extracting summary statistics from every recording period and appending it as a new column to a dataframe\n",
    "def aggregate_features(x,col_name):\n",
    "    #x[\"max_\"+col_name]=x[col_name].apply(np.max)\n",
    "    #x[\"min_\"+col_name]=x[col_name].apply(np.min)\n",
    "    x[\"mean_\"+col_name]=x[col_name].apply(np.mean)\n",
    "    x[\"std_\"+col_name]=x[col_name].apply(np.std)\n",
    "    #x[\"var_\"+col_name]=x[col_name].apply(np.var)\n",
    "    #x[\"median_\"+col_name]=x[col_name].apply(np.median)\n",
    "    #x[\"ptp_\"+col_name]=x[col_name].apply(np.ptp)\n",
    "    return x  \n",
    "\n",
    "# function returning only non-Null values (helper for aggregation function)\n",
    "def remove_nan_values(x):\n",
    "    return [e for e in x if not pd.isna(e)]\n"
   ]
  },
  {
   "cell_type": "code",
   "execution_count": null,
   "metadata": {},
   "outputs": [],
   "source": [
    "# remove NaNs from dataframe\n",
    "for col_name in features:\n",
    "   df[col_name]=df[col_name].apply(remove_nan_values)"
   ]
  },
  {
   "cell_type": "code",
   "execution_count": null,
   "metadata": {},
   "outputs": [],
   "source": [
    "#extract summary statistics for each recording period and feature\n",
    "for col_name in features:\n",
    "    df=aggregate_features(df,col_name)"
   ]
  },
  {
   "cell_type": "code",
   "execution_count": null,
   "metadata": {},
   "outputs": [],
   "source": [
    "df.drop(features, axis=1, inplace=True)"
   ]
  },
  {
   "cell_type": "code",
   "execution_count": null,
   "metadata": {},
   "outputs": [],
   "source": [
    "df.head(3)"
   ]
  },
  {
   "cell_type": "code",
   "execution_count": null,
   "metadata": {},
   "outputs": [],
   "source": [
    "df.dropna(inplace=True)"
   ]
  },
  {
   "cell_type": "code",
   "execution_count": null,
   "metadata": {},
   "outputs": [],
   "source": [
    "df.info()"
   ]
  },
  {
   "cell_type": "markdown",
   "metadata": {},
   "source": [
    "# claculate a quick model\n",
    "without the last column, to plot residuals over it"
   ]
  },
  {
   "cell_type": "code",
   "execution_count": null,
   "metadata": {},
   "outputs": [],
   "source": [
    "# import libraries and metrics\n",
    "from sklearn.model_selection import train_test_split\n",
    "from sklearn.preprocessing import StandardScaler\n",
    "from sklearn.linear_model import LinearRegression\n",
    "from sklearn.metrics import r2_score, mean_squared_error"
   ]
  },
  {
   "cell_type": "code",
   "execution_count": null,
   "metadata": {},
   "outputs": [],
   "source": [
    "df.columns"
   ]
  },
  {
   "cell_type": "code",
   "execution_count": null,
   "metadata": {},
   "outputs": [],
   "source": [
    "# get target and features\n",
    "X = df[['last_temp', 'last_precip', 'last_rel_humidity', 'last_wind_dir', 'last_wind_spd',\n",
    "       'last_atmos_press','location', 'mean_temp', 'mean_precip', 'mean_rel_humidity', 'mean_wind_dir', 'mean_wind_spd', 'mean_atmos_press']]\n",
    "y = df.target\n",
    "\n",
    "print(X.shape)\n",
    "print(y.shape)"
   ]
  },
  {
   "cell_type": "code",
   "execution_count": null,
   "metadata": {},
   "outputs": [],
   "source": [
    "# perform train test split, stratified by location in order to ensure that locations are balanced between training and test set\n",
    "rseed = 42\n",
    "\n",
    "X_train, X_test, y_train, y_test = train_test_split(X, y, test_size=0.3, stratify=X['location'], random_state=rseed)\n",
    "\n",
    "print(X_train.shape)\n",
    "print(X_test.shape)"
   ]
  },
  {
   "cell_type": "code",
   "execution_count": null,
   "metadata": {},
   "outputs": [],
   "source": [
    "# scale features using z-transformation\n",
    "scaler = StandardScaler()\n",
    "\n",
    "# fit_transform training data, drop location column since it will not be used for prediction\n",
    "X_train_scaled = scaler.fit_transform(X_train.drop('location', axis=1))\n",
    "# aply transform to test data\n",
    "X_test_scaled = scaler.transform(X_test.drop('location', axis=1))"
   ]
  },
  {
   "cell_type": "code",
   "execution_count": null,
   "metadata": {},
   "outputs": [],
   "source": [
    "# train the model\n",
    "linreg = LinearRegression()\n",
    "\n",
    "linreg.fit(X_train_scaled, y_train)"
   ]
  },
  {
   "cell_type": "code",
   "execution_count": null,
   "metadata": {},
   "outputs": [],
   "source": [
    "# predict new cases\n",
    "y_pred = linreg.predict(X_test_scaled)\n",
    "\n",
    "# show first 10 predictions\n",
    "y_pred[:10]"
   ]
  },
  {
   "cell_type": "code",
   "execution_count": null,
   "metadata": {},
   "outputs": [],
   "source": [
    "# evaluate model accurray\n",
    "\n",
    "rmse_linreg = mean_squared_error(y_test, y_pred, squared=False)\n",
    "r2_linreg = r2_score(y_test, y_pred)\n",
    "\n",
    "print(f'RMSE on testset: {round(rmse_linreg,2)}')\n",
    "print(f'Coefficient of determination on testset: {round(r2_linreg,2)}')"
   ]
  },
  {
   "cell_type": "code",
   "execution_count": null,
   "metadata": {},
   "outputs": [],
   "source": [
    "# calculate residuals\n",
    "residual = y_test - y_pred"
   ]
  },
  {
   "cell_type": "code",
   "execution_count": null,
   "metadata": {},
   "outputs": [],
   "source": [
    "sns.scatterplot(x=X_test.last_temp, y=residual, hue=X_test['location'])\n",
    "plt.xlabel('last temperature')\n",
    "plt.ylabel('residual')\n",
    "plt.title('Residual plot');"
   ]
  },
  {
   "cell_type": "code",
   "execution_count": null,
   "metadata": {},
   "outputs": [],
   "source": []
  }
 ],
 "metadata": {
  "kernelspec": {
   "display_name": "Python 3.9.8 ('.venv': venv)",
   "language": "python",
   "name": "python3"
  },
  "language_info": {
   "codemirror_mode": {
    "name": "ipython",
    "version": 3
   },
   "file_extension": ".py",
   "mimetype": "text/x-python",
   "name": "python",
   "nbconvert_exporter": "python",
   "pygments_lexer": "ipython3",
   "version": "3.9.8"
  },
  "orig_nbformat": 4,
  "vscode": {
   "interpreter": {
    "hash": "ea3fbc9f2d5e7eb763f248ff2ca795d66db49f5098ed6b3dc805674371cc4643"
   }
  }
 },
 "nbformat": 4,
 "nbformat_minor": 2
}
