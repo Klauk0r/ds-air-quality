{
 "cells": [
  {
   "cell_type": "code",
   "execution_count": 126,
   "metadata": {},
   "outputs": [],
   "source": [
    "import pandas as pd \n",
    "import numpy as np \n",
    "import seaborn as sns\n",
    "import matplotlib.pyplot as plt"
   ]
  },
  {
   "cell_type": "code",
   "execution_count": 127,
   "metadata": {},
   "outputs": [],
   "source": [
    "df = pd.read_csv(\"data/Train.csv\")\n",
    "#df.head()"
   ]
  },
  {
   "cell_type": "code",
   "execution_count": 128,
   "metadata": {},
   "outputs": [
    {
     "name": "stdout",
     "output_type": "stream",
     "text": [
      "<class 'pandas.core.frame.DataFrame'>\n",
      "RangeIndex: 15539 entries, 0 to 15538\n",
      "Data columns (total 9 columns):\n",
      " #   Column        Non-Null Count  Dtype  \n",
      "---  ------        --------------  -----  \n",
      " 0   ID            15539 non-null  object \n",
      " 1   location      15539 non-null  object \n",
      " 2   temp          15539 non-null  object \n",
      " 3   precip        15539 non-null  object \n",
      " 4   rel_humidity  15539 non-null  object \n",
      " 5   wind_dir      15539 non-null  object \n",
      " 6   wind_spd      15539 non-null  object \n",
      " 7   atmos_press   15539 non-null  object \n",
      " 8   target        15539 non-null  float64\n",
      "dtypes: float64(1), object(8)\n",
      "memory usage: 1.1+ MB\n"
     ]
    }
   ],
   "source": [
    "df.info()"
   ]
  },
  {
   "cell_type": "markdown",
   "metadata": {},
   "source": [
    "# basic cleanup and conversion"
   ]
  },
  {
   "cell_type": "code",
   "execution_count": 129,
   "metadata": {},
   "outputs": [],
   "source": [
    "# covert features  fron string to List of values \n",
    "def replace_nan(x):\n",
    "    if x==\" \":\n",
    "        return np.nan\n",
    "    else :\n",
    "        return float(x)\n",
    "features=[\"temp\",\"precip\",\"rel_humidity\",\"wind_dir\",\"wind_spd\",\"atmos_press\"]\n",
    "for feature in features : \n",
    "    df[feature] = df[feature].apply(lambda x: [ replace_nan(X) for X in x.replace(\"nan\",\" \").split(\",\")])"
   ]
  },
  {
   "cell_type": "markdown",
   "metadata": {},
   "source": [
    "# drop rows with too many NaNs"
   ]
  },
  {
   "cell_type": "code",
   "execution_count": 130,
   "metadata": {},
   "outputs": [],
   "source": [
    "# recording periods contain varying degrees of NaNs: compute percent NaN for each recording period and feature\n",
    "# function to compute the percentage of NaNs per recording period\n",
    "def compute_percent_nan(df, col_name):\n",
    "    df['percent_nan_'+col_name] = df[col_name].apply(lambda x: np.isnan(np.array(x)).sum()/len(x)*100)\n",
    "    return df"
   ]
  },
  {
   "cell_type": "code",
   "execution_count": 131,
   "metadata": {},
   "outputs": [],
   "source": [
    "# calculate percentage of missings per recording period and feature and append to dataframe\n",
    "for col_name in features:\n",
    "    data=compute_percent_nan(df,col_name)"
   ]
  },
  {
   "cell_type": "code",
   "execution_count": 132,
   "metadata": {},
   "outputs": [],
   "source": [
    "#df.head()"
   ]
  },
  {
   "cell_type": "code",
   "execution_count": 133,
   "metadata": {},
   "outputs": [
    {
     "name": "stderr",
     "output_type": "stream",
     "text": [
      "/Users/alwinklick/neuefische/ds-air-quality/.venv/lib/python3.9/site-packages/pandas/core/frame.py:4906: SettingWithCopyWarning: \n",
      "A value is trying to be set on a copy of a slice from a DataFrame\n",
      "\n",
      "See the caveats in the documentation: https://pandas.pydata.org/pandas-docs/stable/user_guide/indexing.html#returning-a-view-versus-a-copy\n",
      "  return super().drop(\n"
     ]
    },
    {
     "data": {
      "text/html": [
       "<div>\n",
       "<style scoped>\n",
       "    .dataframe tbody tr th:only-of-type {\n",
       "        vertical-align: middle;\n",
       "    }\n",
       "\n",
       "    .dataframe tbody tr th {\n",
       "        vertical-align: top;\n",
       "    }\n",
       "\n",
       "    .dataframe thead th {\n",
       "        text-align: right;\n",
       "    }\n",
       "</style>\n",
       "<table border=\"1\" class=\"dataframe\">\n",
       "  <thead>\n",
       "    <tr style=\"text-align: right;\">\n",
       "      <th></th>\n",
       "      <th>index</th>\n",
       "      <th>ID</th>\n",
       "      <th>location</th>\n",
       "      <th>temp</th>\n",
       "      <th>precip</th>\n",
       "      <th>rel_humidity</th>\n",
       "      <th>wind_dir</th>\n",
       "      <th>wind_spd</th>\n",
       "      <th>atmos_press</th>\n",
       "      <th>target</th>\n",
       "    </tr>\n",
       "  </thead>\n",
       "  <tbody>\n",
       "    <tr>\n",
       "      <th>0</th>\n",
       "      <td>1</td>\n",
       "      <td>ID_train_1</td>\n",
       "      <td>D</td>\n",
       "      <td>[22.53333333, 21.71666667, 20.83333333, 20.983...</td>\n",
       "      <td>[0.102, 0.0, 0.0, 0.0, 0.0, 0.0, 0.0, 0.034, 0...</td>\n",
       "      <td>[0.744583333, 0.808083333, 0.911166667, 0.9163...</td>\n",
       "      <td>[281.6643101, 89.15629262, 81.96853891, 291.01...</td>\n",
       "      <td>[2.3775, 1.126666667, 0.700833333, 0.341666667...</td>\n",
       "      <td>[90.32, 90.3775, 90.44083333, 90.4725, 90.4541...</td>\n",
       "      <td>79.131702</td>\n",
       "    </tr>\n",
       "    <tr>\n",
       "      <th>1</th>\n",
       "      <td>5</td>\n",
       "      <td>ID_train_10000</td>\n",
       "      <td>E</td>\n",
       "      <td>[26.225, 26.25, 26.95833333, 27.925, 28.416666...</td>\n",
       "      <td>[0.0, 0.0, 0.0, 0.0, 0.0, 0.0, 0.0, 0.0, 0.0, ...</td>\n",
       "      <td>[0.7566666670000001, 0.7090833329999999, 0.632...</td>\n",
       "      <td>[nan, 104.3737208, 161.28512859999995, 161.322...</td>\n",
       "      <td>[nan, 1.4858333330000002, 1.090833333, 0.94166...</td>\n",
       "      <td>[88.56583333, 88.55, 88.50916667, 88.44083333,...</td>\n",
       "      <td>17.005000</td>\n",
       "    </tr>\n",
       "    <tr>\n",
       "      <th>2</th>\n",
       "      <td>6</td>\n",
       "      <td>ID_train_10001</td>\n",
       "      <td>C</td>\n",
       "      <td>[21.86666667, 21.38333333, 20.75, 20.74166667,...</td>\n",
       "      <td>[0.0, 0.0, 0.0, 0.0, 0.0, 0.0, 0.0, 0.0, 0.0, ...</td>\n",
       "      <td>[0.548333333, 0.571666667, 0.589166667, 0.57, ...</td>\n",
       "      <td>[334.0827161, 332.4037603, 328.58290530000005,...</td>\n",
       "      <td>[1.1525, 1.055, 1.11, 1.385833333, 1.2, 1.2508...</td>\n",
       "      <td>[87.73666667, 87.74416667, 87.7475, 87.78, 87....</td>\n",
       "      <td>53.100000</td>\n",
       "    </tr>\n",
       "    <tr>\n",
       "      <th>3</th>\n",
       "      <td>7</td>\n",
       "      <td>ID_train_10002</td>\n",
       "      <td>A</td>\n",
       "      <td>[28.24166667, 27.9, 26.45833333, 24.31666667, ...</td>\n",
       "      <td>[0.0, 0.0, 0.0, 0.0, 0.0, 0.0, 0.0, 0.0, 0.0, ...</td>\n",
       "      <td>[0.52725, 0.515833333, 0.585916667, 0.6965, 0....</td>\n",
       "      <td>[328.4616193, 336.5790368000001, 346.5753952, ...</td>\n",
       "      <td>[1.926666667, 1.635, 0.744166667, 0.454166667,...</td>\n",
       "      <td>[88.01416667, 88.01166667, 88.0375, 88.1308333...</td>\n",
       "      <td>55.051143</td>\n",
       "    </tr>\n",
       "    <tr>\n",
       "      <th>4</th>\n",
       "      <td>10</td>\n",
       "      <td>ID_train_10005</td>\n",
       "      <td>D</td>\n",
       "      <td>[19.4, 18.99166667, 18.56666667, 18.24166667, ...</td>\n",
       "      <td>[0.0, 0.0, 0.0, 0.0, 0.0, 0.0, 0.0, 0.0, 0.0, ...</td>\n",
       "      <td>[0.9275, 0.93, 0.935833333, 0.936666667, 0.935...</td>\n",
       "      <td>[30.34376711, 10.47925914, 316.7126711, 295.14...</td>\n",
       "      <td>[0.348333333, 0.555, 0.423333333, 0.320833333,...</td>\n",
       "      <td>[90.78833333, 90.72, 90.67333333, 90.65333333,...</td>\n",
       "      <td>55.638261</td>\n",
       "    </tr>\n",
       "  </tbody>\n",
       "</table>\n",
       "</div>"
      ],
      "text/plain": [
       "   index              ID location  \\\n",
       "0      1      ID_train_1        D   \n",
       "1      5  ID_train_10000        E   \n",
       "2      6  ID_train_10001        C   \n",
       "3      7  ID_train_10002        A   \n",
       "4     10  ID_train_10005        D   \n",
       "\n",
       "                                                temp  \\\n",
       "0  [22.53333333, 21.71666667, 20.83333333, 20.983...   \n",
       "1  [26.225, 26.25, 26.95833333, 27.925, 28.416666...   \n",
       "2  [21.86666667, 21.38333333, 20.75, 20.74166667,...   \n",
       "3  [28.24166667, 27.9, 26.45833333, 24.31666667, ...   \n",
       "4  [19.4, 18.99166667, 18.56666667, 18.24166667, ...   \n",
       "\n",
       "                                              precip  \\\n",
       "0  [0.102, 0.0, 0.0, 0.0, 0.0, 0.0, 0.0, 0.034, 0...   \n",
       "1  [0.0, 0.0, 0.0, 0.0, 0.0, 0.0, 0.0, 0.0, 0.0, ...   \n",
       "2  [0.0, 0.0, 0.0, 0.0, 0.0, 0.0, 0.0, 0.0, 0.0, ...   \n",
       "3  [0.0, 0.0, 0.0, 0.0, 0.0, 0.0, 0.0, 0.0, 0.0, ...   \n",
       "4  [0.0, 0.0, 0.0, 0.0, 0.0, 0.0, 0.0, 0.0, 0.0, ...   \n",
       "\n",
       "                                        rel_humidity  \\\n",
       "0  [0.744583333, 0.808083333, 0.911166667, 0.9163...   \n",
       "1  [0.7566666670000001, 0.7090833329999999, 0.632...   \n",
       "2  [0.548333333, 0.571666667, 0.589166667, 0.57, ...   \n",
       "3  [0.52725, 0.515833333, 0.585916667, 0.6965, 0....   \n",
       "4  [0.9275, 0.93, 0.935833333, 0.936666667, 0.935...   \n",
       "\n",
       "                                            wind_dir  \\\n",
       "0  [281.6643101, 89.15629262, 81.96853891, 291.01...   \n",
       "1  [nan, 104.3737208, 161.28512859999995, 161.322...   \n",
       "2  [334.0827161, 332.4037603, 328.58290530000005,...   \n",
       "3  [328.4616193, 336.5790368000001, 346.5753952, ...   \n",
       "4  [30.34376711, 10.47925914, 316.7126711, 295.14...   \n",
       "\n",
       "                                            wind_spd  \\\n",
       "0  [2.3775, 1.126666667, 0.700833333, 0.341666667...   \n",
       "1  [nan, 1.4858333330000002, 1.090833333, 0.94166...   \n",
       "2  [1.1525, 1.055, 1.11, 1.385833333, 1.2, 1.2508...   \n",
       "3  [1.926666667, 1.635, 0.744166667, 0.454166667,...   \n",
       "4  [0.348333333, 0.555, 0.423333333, 0.320833333,...   \n",
       "\n",
       "                                         atmos_press     target  \n",
       "0  [90.32, 90.3775, 90.44083333, 90.4725, 90.4541...  79.131702  \n",
       "1  [88.56583333, 88.55, 88.50916667, 88.44083333,...  17.005000  \n",
       "2  [87.73666667, 87.74416667, 87.7475, 87.78, 87....  53.100000  \n",
       "3  [88.01416667, 88.01166667, 88.0375, 88.1308333...  55.051143  \n",
       "4  [90.78833333, 90.72, 90.67333333, 90.65333333,...  55.638261  "
      ]
     },
     "execution_count": 133,
     "metadata": {},
     "output_type": "execute_result"
    }
   ],
   "source": [
    "# filter observations based on percent NaN and check again the data distribution of the target and summary features\n",
    "nan_columns = ['percent_nan_temp', 'percent_nan_precip','percent_nan_rel_humidity', 'percent_nan_wind_dir','percent_nan_wind_spd', \n",
    "        'percent_nan_atmos_press']\n",
    "df = df[(df[nan_columns]<30).all(axis=1)]\n",
    "df.drop(nan_columns, axis=1, inplace=True)\n",
    "df.reset_index(inplace=True)\n",
    "df.head()"
   ]
  },
  {
   "cell_type": "markdown",
   "metadata": {},
   "source": [
    "# do the wind thing\n"
   ]
  },
  {
   "cell_type": "code",
   "execution_count": 134,
   "metadata": {},
   "outputs": [
    {
     "name": "stderr",
     "output_type": "stream",
     "text": [
      "/var/folders/3x/gn1x_n556cx49y1dx9kzy3mm0000gn/T/ipykernel_55398/1058124178.py:1: SettingWithCopyWarning: \n",
      "A value is trying to be set on a copy of a slice from a DataFrame.\n",
      "Try using .loc[row_indexer,col_indexer] = value instead\n",
      "\n",
      "See the caveats in the documentation: https://pandas.pydata.org/pandas-docs/stable/user_guide/indexing.html#returning-a-view-versus-a-copy\n",
      "  df[\"wind_dir_x\"] = df.wind_dir.apply(lambda x: list(np.cos(np.array(x) * np.pi /180)))\n",
      "/var/folders/3x/gn1x_n556cx49y1dx9kzy3mm0000gn/T/ipykernel_55398/1058124178.py:2: SettingWithCopyWarning: \n",
      "A value is trying to be set on a copy of a slice from a DataFrame.\n",
      "Try using .loc[row_indexer,col_indexer] = value instead\n",
      "\n",
      "See the caveats in the documentation: https://pandas.pydata.org/pandas-docs/stable/user_guide/indexing.html#returning-a-view-versus-a-copy\n",
      "  df[\"wind_dir_y\"] = df.wind_dir.apply(lambda x: list(np.sin(np.array(x) * np.pi /180)))\n",
      "/Users/alwinklick/neuefische/ds-air-quality/.venv/lib/python3.9/site-packages/pandas/core/frame.py:4906: SettingWithCopyWarning: \n",
      "A value is trying to be set on a copy of a slice from a DataFrame\n",
      "\n",
      "See the caveats in the documentation: https://pandas.pydata.org/pandas-docs/stable/user_guide/indexing.html#returning-a-view-versus-a-copy\n",
      "  return super().drop(\n"
     ]
    },
    {
     "data": {
      "text/html": [
       "<div>\n",
       "<style scoped>\n",
       "    .dataframe tbody tr th:only-of-type {\n",
       "        vertical-align: middle;\n",
       "    }\n",
       "\n",
       "    .dataframe tbody tr th {\n",
       "        vertical-align: top;\n",
       "    }\n",
       "\n",
       "    .dataframe thead th {\n",
       "        text-align: right;\n",
       "    }\n",
       "</style>\n",
       "<table border=\"1\" class=\"dataframe\">\n",
       "  <thead>\n",
       "    <tr style=\"text-align: right;\">\n",
       "      <th></th>\n",
       "      <th>index</th>\n",
       "      <th>ID</th>\n",
       "      <th>location</th>\n",
       "      <th>temp</th>\n",
       "      <th>precip</th>\n",
       "      <th>rel_humidity</th>\n",
       "      <th>wind_spd</th>\n",
       "      <th>atmos_press</th>\n",
       "      <th>target</th>\n",
       "      <th>wind_dir_x</th>\n",
       "      <th>wind_dir_y</th>\n",
       "    </tr>\n",
       "  </thead>\n",
       "  <tbody>\n",
       "    <tr>\n",
       "      <th>0</th>\n",
       "      <td>1</td>\n",
       "      <td>ID_train_1</td>\n",
       "      <td>D</td>\n",
       "      <td>[22.53333333, 21.71666667, 20.83333333, 20.983...</td>\n",
       "      <td>[0.102, 0.0, 0.0, 0.0, 0.0, 0.0, 0.0, 0.034, 0...</td>\n",
       "      <td>[0.744583333, 0.808083333, 0.911166667, 0.9163...</td>\n",
       "      <td>[2.3775, 1.126666667, 0.700833333, 0.341666667...</td>\n",
       "      <td>[90.32, 90.3775, 90.44083333, 90.4725, 90.4541...</td>\n",
       "      <td>79.131702</td>\n",
       "      <td>[0.20217729203070506, 0.014724939532783088, 0....</td>\n",
       "      <td>[-0.9793489381150781, 0.9998915822006683, 0.99...</td>\n",
       "    </tr>\n",
       "    <tr>\n",
       "      <th>1</th>\n",
       "      <td>5</td>\n",
       "      <td>ID_train_10000</td>\n",
       "      <td>E</td>\n",
       "      <td>[26.225, 26.25, 26.95833333, 27.925, 28.416666...</td>\n",
       "      <td>[0.0, 0.0, 0.0, 0.0, 0.0, 0.0, 0.0, 0.0, 0.0, ...</td>\n",
       "      <td>[0.7566666670000001, 0.7090833329999999, 0.632...</td>\n",
       "      <td>[nan, 1.4858333330000002, 1.090833333, 0.94166...</td>\n",
       "      <td>[88.56583333, 88.55, 88.50916667, 88.44083333,...</td>\n",
       "      <td>17.005000</td>\n",
       "      <td>[nan, -0.2482456120597107, -0.9471270291698715...</td>\n",
       "      <td>[nan, 0.9686971229920628, 0.32085883284686667,...</td>\n",
       "    </tr>\n",
       "    <tr>\n",
       "      <th>2</th>\n",
       "      <td>6</td>\n",
       "      <td>ID_train_10001</td>\n",
       "      <td>C</td>\n",
       "      <td>[21.86666667, 21.38333333, 20.75, 20.74166667,...</td>\n",
       "      <td>[0.0, 0.0, 0.0, 0.0, 0.0, 0.0, 0.0, 0.0, 0.0, ...</td>\n",
       "      <td>[0.548333333, 0.571666667, 0.589166667, 0.57, ...</td>\n",
       "      <td>[1.1525, 1.055, 1.11, 1.385833333, 1.2, 1.2508...</td>\n",
       "      <td>[87.73666667, 87.74416667, 87.7475, 87.78, 87....</td>\n",
       "      <td>53.100000</td>\n",
       "      <td>[0.8994259719796608, 0.8862339832634597, 0.853...</td>\n",
       "      <td>[-0.43707312995475084, -0.46323787292165763, -...</td>\n",
       "    </tr>\n",
       "  </tbody>\n",
       "</table>\n",
       "</div>"
      ],
      "text/plain": [
       "   index              ID location  \\\n",
       "0      1      ID_train_1        D   \n",
       "1      5  ID_train_10000        E   \n",
       "2      6  ID_train_10001        C   \n",
       "\n",
       "                                                temp  \\\n",
       "0  [22.53333333, 21.71666667, 20.83333333, 20.983...   \n",
       "1  [26.225, 26.25, 26.95833333, 27.925, 28.416666...   \n",
       "2  [21.86666667, 21.38333333, 20.75, 20.74166667,...   \n",
       "\n",
       "                                              precip  \\\n",
       "0  [0.102, 0.0, 0.0, 0.0, 0.0, 0.0, 0.0, 0.034, 0...   \n",
       "1  [0.0, 0.0, 0.0, 0.0, 0.0, 0.0, 0.0, 0.0, 0.0, ...   \n",
       "2  [0.0, 0.0, 0.0, 0.0, 0.0, 0.0, 0.0, 0.0, 0.0, ...   \n",
       "\n",
       "                                        rel_humidity  \\\n",
       "0  [0.744583333, 0.808083333, 0.911166667, 0.9163...   \n",
       "1  [0.7566666670000001, 0.7090833329999999, 0.632...   \n",
       "2  [0.548333333, 0.571666667, 0.589166667, 0.57, ...   \n",
       "\n",
       "                                            wind_spd  \\\n",
       "0  [2.3775, 1.126666667, 0.700833333, 0.341666667...   \n",
       "1  [nan, 1.4858333330000002, 1.090833333, 0.94166...   \n",
       "2  [1.1525, 1.055, 1.11, 1.385833333, 1.2, 1.2508...   \n",
       "\n",
       "                                         atmos_press     target  \\\n",
       "0  [90.32, 90.3775, 90.44083333, 90.4725, 90.4541...  79.131702   \n",
       "1  [88.56583333, 88.55, 88.50916667, 88.44083333,...  17.005000   \n",
       "2  [87.73666667, 87.74416667, 87.7475, 87.78, 87....  53.100000   \n",
       "\n",
       "                                          wind_dir_x  \\\n",
       "0  [0.20217729203070506, 0.014724939532783088, 0....   \n",
       "1  [nan, -0.2482456120597107, -0.9471270291698715...   \n",
       "2  [0.8994259719796608, 0.8862339832634597, 0.853...   \n",
       "\n",
       "                                          wind_dir_y  \n",
       "0  [-0.9793489381150781, 0.9998915822006683, 0.99...  \n",
       "1  [nan, 0.9686971229920628, 0.32085883284686667,...  \n",
       "2  [-0.43707312995475084, -0.46323787292165763, -...  "
      ]
     },
     "execution_count": 134,
     "metadata": {},
     "output_type": "execute_result"
    }
   ],
   "source": [
    "\n",
    "df[\"wind_dir_x\"] = df.wind_dir.apply(lambda x: list(np.cos(np.array(x) * np.pi /180)))\n",
    "df[\"wind_dir_y\"] = df.wind_dir.apply(lambda x: list(np.sin(np.array(x) * np.pi /180)))\n",
    "df.drop(\"wind_dir\", axis=1, inplace=True)\n",
    "features=[\"temp\",\"precip\",\"rel_humidity\",\"wind_dir_x\",\"wind_dir_y\",\"wind_spd\",\"atmos_press\"]\n",
    "\n",
    "df.head(3)"
   ]
  },
  {
   "cell_type": "markdown",
   "metadata": {},
   "source": [
    "# get last measurement from each time series"
   ]
  },
  {
   "cell_type": "code",
   "execution_count": 124,
   "metadata": {},
   "outputs": [
    {
     "name": "stderr",
     "output_type": "stream",
     "text": [
      "/var/folders/3x/gn1x_n556cx49y1dx9kzy3mm0000gn/T/ipykernel_55398/1204741954.py:26: SettingWithCopyWarning: \n",
      "A value is trying to be set on a copy of a slice from a DataFrame.\n",
      "Try using .loc[row_indexer,col_indexer] = value instead\n",
      "\n",
      "See the caveats in the documentation: https://pandas.pydata.org/pandas-docs/stable/user_guide/indexing.html#returning-a-view-versus-a-copy\n",
      "  x[\"last_\"+col_name]=x[col_name].apply(last)\n"
     ]
    },
    {
     "ename": "KeyError",
     "evalue": "'wind_dir'",
     "output_type": "error",
     "traceback": [
      "\u001b[0;31m---------------------------------------------------------------------------\u001b[0m",
      "\u001b[0;31mKeyError\u001b[0m                                  Traceback (most recent call last)",
      "File \u001b[0;32m~/neuefische/ds-air-quality/.venv/lib/python3.9/site-packages/pandas/core/indexes/base.py:3361\u001b[0m, in \u001b[0;36mIndex.get_loc\u001b[0;34m(self, key, method, tolerance)\u001b[0m\n\u001b[1;32m   3360\u001b[0m \u001b[39mtry\u001b[39;00m:\n\u001b[0;32m-> 3361\u001b[0m     \u001b[39mreturn\u001b[39;00m \u001b[39mself\u001b[39;49m\u001b[39m.\u001b[39;49m_engine\u001b[39m.\u001b[39;49mget_loc(casted_key)\n\u001b[1;32m   3362\u001b[0m \u001b[39mexcept\u001b[39;00m \u001b[39mKeyError\u001b[39;00m \u001b[39mas\u001b[39;00m err:\n",
      "File \u001b[0;32m~/neuefische/ds-air-quality/.venv/lib/python3.9/site-packages/pandas/_libs/index.pyx:76\u001b[0m, in \u001b[0;36mpandas._libs.index.IndexEngine.get_loc\u001b[0;34m()\u001b[0m\n",
      "File \u001b[0;32m~/neuefische/ds-air-quality/.venv/lib/python3.9/site-packages/pandas/_libs/index.pyx:108\u001b[0m, in \u001b[0;36mpandas._libs.index.IndexEngine.get_loc\u001b[0;34m()\u001b[0m\n",
      "File \u001b[0;32mpandas/_libs/hashtable_class_helper.pxi:5198\u001b[0m, in \u001b[0;36mpandas._libs.hashtable.PyObjectHashTable.get_item\u001b[0;34m()\u001b[0m\n",
      "File \u001b[0;32mpandas/_libs/hashtable_class_helper.pxi:5206\u001b[0m, in \u001b[0;36mpandas._libs.hashtable.PyObjectHashTable.get_item\u001b[0;34m()\u001b[0m\n",
      "\u001b[0;31mKeyError\u001b[0m: 'wind_dir'",
      "\nThe above exception was the direct cause of the following exception:\n",
      "\u001b[0;31mKeyError\u001b[0m                                  Traceback (most recent call last)",
      "Cell \u001b[0;32mIn [124], line 30\u001b[0m\n\u001b[1;32m     27\u001b[0m     \u001b[38;5;28;01mreturn\u001b[39;00m x \n\u001b[1;32m     29\u001b[0m \u001b[38;5;28;01mfor\u001b[39;00m col_name \u001b[38;5;129;01min\u001b[39;00m features:\n\u001b[0;32m---> 30\u001b[0m     df\u001b[38;5;241m=\u001b[39mget_last(df,col_name)\n",
      "Cell \u001b[0;32mIn [124], line 26\u001b[0m, in \u001b[0;36mget_last\u001b[0;34m(x, col_name)\u001b[0m\n\u001b[1;32m     25\u001b[0m \u001b[38;5;28;01mdef\u001b[39;00m \u001b[38;5;21mget_last\u001b[39m(x,col_name):\n\u001b[0;32m---> 26\u001b[0m     x[\u001b[38;5;124m\"\u001b[39m\u001b[38;5;124mlast_\u001b[39m\u001b[38;5;124m\"\u001b[39m\u001b[38;5;241m+\u001b[39mcol_name]\u001b[38;5;241m=\u001b[39m\u001b[43mx\u001b[49m\u001b[43m[\u001b[49m\u001b[43mcol_name\u001b[49m\u001b[43m]\u001b[49m\u001b[38;5;241m.\u001b[39mapply(last)\n\u001b[1;32m     27\u001b[0m     \u001b[38;5;28;01mreturn\u001b[39;00m x\n",
      "File \u001b[0;32m~/neuefische/ds-air-quality/.venv/lib/python3.9/site-packages/pandas/core/frame.py:3458\u001b[0m, in \u001b[0;36mDataFrame.__getitem__\u001b[0;34m(self, key)\u001b[0m\n\u001b[1;32m   3456\u001b[0m \u001b[39mif\u001b[39;00m \u001b[39mself\u001b[39m\u001b[39m.\u001b[39mcolumns\u001b[39m.\u001b[39mnlevels \u001b[39m>\u001b[39m \u001b[39m1\u001b[39m:\n\u001b[1;32m   3457\u001b[0m     \u001b[39mreturn\u001b[39;00m \u001b[39mself\u001b[39m\u001b[39m.\u001b[39m_getitem_multilevel(key)\n\u001b[0;32m-> 3458\u001b[0m indexer \u001b[39m=\u001b[39m \u001b[39mself\u001b[39;49m\u001b[39m.\u001b[39;49mcolumns\u001b[39m.\u001b[39;49mget_loc(key)\n\u001b[1;32m   3459\u001b[0m \u001b[39mif\u001b[39;00m is_integer(indexer):\n\u001b[1;32m   3460\u001b[0m     indexer \u001b[39m=\u001b[39m [indexer]\n",
      "File \u001b[0;32m~/neuefische/ds-air-quality/.venv/lib/python3.9/site-packages/pandas/core/indexes/base.py:3363\u001b[0m, in \u001b[0;36mIndex.get_loc\u001b[0;34m(self, key, method, tolerance)\u001b[0m\n\u001b[1;32m   3361\u001b[0m         \u001b[39mreturn\u001b[39;00m \u001b[39mself\u001b[39m\u001b[39m.\u001b[39m_engine\u001b[39m.\u001b[39mget_loc(casted_key)\n\u001b[1;32m   3362\u001b[0m     \u001b[39mexcept\u001b[39;00m \u001b[39mKeyError\u001b[39;00m \u001b[39mas\u001b[39;00m err:\n\u001b[0;32m-> 3363\u001b[0m         \u001b[39mraise\u001b[39;00m \u001b[39mKeyError\u001b[39;00m(key) \u001b[39mfrom\u001b[39;00m \u001b[39merr\u001b[39;00m\n\u001b[1;32m   3365\u001b[0m \u001b[39mif\u001b[39;00m is_scalar(key) \u001b[39mand\u001b[39;00m isna(key) \u001b[39mand\u001b[39;00m \u001b[39mnot\u001b[39;00m \u001b[39mself\u001b[39m\u001b[39m.\u001b[39mhasnans:\n\u001b[1;32m   3366\u001b[0m     \u001b[39mraise\u001b[39;00m \u001b[39mKeyError\u001b[39;00m(key)\n",
      "\u001b[0;31mKeyError\u001b[0m: 'wind_dir'"
     ]
    }
   ],
   "source": [
    "# get last value for each time series\n",
    "# did this before dropping all NaNs\n",
    "\n",
    "\n",
    "def last(x):\n",
    "    \"\"\"return last value of list, if not there then return second to last, if not there the one 24h before last. \n",
    "\n",
    "    Args:\n",
    "        x (_type_): _description_\n",
    "\n",
    "    Returns:\n",
    "        _type_: _description_\n",
    "    \"\"\"\n",
    "    if not pd.isna(x[-1]):\n",
    "        return x[-1]\n",
    "    if pd.isna(x[-1]) and not pd.isna(x[-2]):\n",
    "        return x[-2]\n",
    "    return x[-25]\n",
    "    #e=1\n",
    "    #while pd.isna(x[-e]) and e < len(x):\n",
    "    #    e += 24\n",
    "    #return x[-e]\n",
    "\n",
    "    \n",
    "def get_last(x,col_name):\n",
    "    x[\"last_\"+col_name]=x[col_name].apply(last)\n",
    "    return x \n",
    "\n",
    "for col_name in features:\n",
    "    df=get_last(df,col_name)"
   ]
  },
  {
   "cell_type": "code",
   "execution_count": null,
   "metadata": {},
   "outputs": [],
   "source": [
    "df.head(3)"
   ]
  },
  {
   "cell_type": "code",
   "execution_count": null,
   "metadata": {},
   "outputs": [],
   "source": [
    "df.info()"
   ]
  },
  {
   "cell_type": "markdown",
   "metadata": {},
   "source": [
    "# other aggregation stuff"
   ]
  },
  {
   "cell_type": "code",
   "execution_count": null,
   "metadata": {},
   "outputs": [],
   "source": [
    "# aggregation function extracting summary statistics from every recording period and appending it as a new column to a dataframe\n",
    "def aggregate_features(x,col_name):\n",
    "    #x[\"max_\"+col_name]=x[col_name].apply(np.max)\n",
    "    #x[\"min_\"+col_name]=x[col_name].apply(np.min)\n",
    "    x[\"mean_\"+col_name]=x[col_name].apply(np.mean)\n",
    "    x[\"std_\"+col_name]=x[col_name].apply(np.std)\n",
    "    #x[\"var_\"+col_name]=x[col_name].apply(np.var)\n",
    "    #x[\"median_\"+col_name]=x[col_name].apply(np.median)\n",
    "    #x[\"ptp_\"+col_name]=x[col_name].apply(np.ptp)\n",
    "    return x  \n",
    "\n",
    "# function returning only non-Null values (helper for aggregation function)\n",
    "def remove_nan_values(x):\n",
    "    return [e for e in x if not pd.isna(e)]\n"
   ]
  },
  {
   "cell_type": "code",
   "execution_count": null,
   "metadata": {},
   "outputs": [],
   "source": [
    "# remove NaNs from dataframe\n",
    "for col_name in features:\n",
    "   df[col_name]=df[col_name].apply(remove_nan_values)"
   ]
  },
  {
   "cell_type": "code",
   "execution_count": null,
   "metadata": {},
   "outputs": [],
   "source": [
    "#extract summary statistics for each recording period and feature\n",
    "for col_name in features:\n",
    "    df=aggregate_features(df,col_name)"
   ]
  },
  {
   "cell_type": "code",
   "execution_count": null,
   "metadata": {},
   "outputs": [],
   "source": [
    "df.drop(features, axis=1, inplace=True)"
   ]
  },
  {
   "cell_type": "code",
   "execution_count": null,
   "metadata": {},
   "outputs": [],
   "source": [
    "df.head(3)"
   ]
  },
  {
   "cell_type": "code",
   "execution_count": null,
   "metadata": {},
   "outputs": [],
   "source": [
    "df.dropna(inplace=True)"
   ]
  },
  {
   "cell_type": "code",
   "execution_count": null,
   "metadata": {},
   "outputs": [],
   "source": [
    "df.info()"
   ]
  },
  {
   "cell_type": "markdown",
   "metadata": {},
   "source": [
    "# claculate a quick model\n",
    "without the last column, to plot residuals over it"
   ]
  },
  {
   "cell_type": "code",
   "execution_count": null,
   "metadata": {},
   "outputs": [],
   "source": [
    "# import libraries and metrics\n",
    "from sklearn.model_selection import train_test_split\n",
    "from sklearn.preprocessing import StandardScaler\n",
    "from sklearn.linear_model import LinearRegression\n",
    "from sklearn.metrics import r2_score, mean_squared_error"
   ]
  },
  {
   "cell_type": "code",
   "execution_count": null,
   "metadata": {},
   "outputs": [],
   "source": [
    "df.columns"
   ]
  },
  {
   "cell_type": "code",
   "execution_count": null,
   "metadata": {},
   "outputs": [],
   "source": [
    "# get target and features\n",
    "X = df[['last_temp', 'last_precip', 'last_rel_humidity', 'last_wind_dir', 'last_wind_spd',\n",
    "       'last_atmos_press','location', 'mean_temp', 'mean_precip', 'mean_rel_humidity', 'mean_wind_dir', 'mean_wind_spd', 'mean_atmos_press']]\n",
    "y = df.target\n",
    "\n",
    "print(X.shape)\n",
    "print(y.shape)"
   ]
  },
  {
   "cell_type": "code",
   "execution_count": null,
   "metadata": {},
   "outputs": [],
   "source": [
    "# perform train test split, stratified by location in order to ensure that locations are balanced between training and test set\n",
    "rseed = 42\n",
    "\n",
    "X_train, X_test, y_train, y_test = train_test_split(X, y, test_size=0.3, stratify=X['location'], random_state=rseed)\n",
    "\n",
    "print(X_train.shape)\n",
    "print(X_test.shape)"
   ]
  },
  {
   "cell_type": "code",
   "execution_count": null,
   "metadata": {},
   "outputs": [],
   "source": [
    "# scale features using z-transformation\n",
    "scaler = StandardScaler()\n",
    "\n",
    "# fit_transform training data, drop location column since it will not be used for prediction\n",
    "X_train_scaled = scaler.fit_transform(X_train.drop('location', axis=1))\n",
    "# aply transform to test data\n",
    "X_test_scaled = scaler.transform(X_test.drop('location', axis=1))"
   ]
  },
  {
   "cell_type": "code",
   "execution_count": null,
   "metadata": {},
   "outputs": [],
   "source": [
    "# train the model\n",
    "linreg = LinearRegression()\n",
    "\n",
    "linreg.fit(X_train_scaled, y_train)"
   ]
  },
  {
   "cell_type": "code",
   "execution_count": null,
   "metadata": {},
   "outputs": [],
   "source": [
    "# predict new cases\n",
    "y_pred = linreg.predict(X_test_scaled)\n",
    "\n",
    "# show first 10 predictions\n",
    "y_pred[:10]"
   ]
  },
  {
   "cell_type": "code",
   "execution_count": null,
   "metadata": {},
   "outputs": [],
   "source": [
    "# evaluate model accurray\n",
    "\n",
    "rmse_linreg = mean_squared_error(y_test, y_pred, squared=False)\n",
    "r2_linreg = r2_score(y_test, y_pred)\n",
    "\n",
    "print(f'RMSE on testset: {round(rmse_linreg,2)}')\n",
    "print(f'Coefficient of determination on testset: {round(r2_linreg,2)}')"
   ]
  },
  {
   "cell_type": "code",
   "execution_count": null,
   "metadata": {},
   "outputs": [],
   "source": [
    "# calculate residuals\n",
    "residual = y_test - y_pred"
   ]
  },
  {
   "cell_type": "code",
   "execution_count": null,
   "metadata": {},
   "outputs": [],
   "source": [
    "sns.scatterplot(x=X_test.last_temp, y=residual, hue=X_test['location'])\n",
    "plt.xlabel('last temperature')\n",
    "plt.ylabel('residual')\n",
    "plt.title('Residual plot');"
   ]
  },
  {
   "cell_type": "code",
   "execution_count": null,
   "metadata": {},
   "outputs": [],
   "source": []
  }
 ],
 "metadata": {
  "kernelspec": {
   "display_name": "Python 3.9.8 ('.venv': venv)",
   "language": "python",
   "name": "python3"
  },
  "language_info": {
   "codemirror_mode": {
    "name": "ipython",
    "version": 3
   },
   "file_extension": ".py",
   "mimetype": "text/x-python",
   "name": "python",
   "nbconvert_exporter": "python",
   "pygments_lexer": "ipython3",
   "version": "3.9.8"
  },
  "orig_nbformat": 4,
  "vscode": {
   "interpreter": {
    "hash": "ea3fbc9f2d5e7eb763f248ff2ca795d66db49f5098ed6b3dc805674371cc4643"
   }
  }
 },
 "nbformat": 4,
 "nbformat_minor": 2
}
